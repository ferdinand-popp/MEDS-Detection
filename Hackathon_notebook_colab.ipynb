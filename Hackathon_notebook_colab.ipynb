{
  "nbformat": 4,
  "nbformat_minor": 0,
  "metadata": {
    "colab": {
      "name": "Hackathon_part2.ipynb",
      "provenance": [],
      "collapsed_sections": [],
      "include_colab_link": true
    },
    "kernelspec": {
      "name": "python3",
      "display_name": "Python 3"
    },
    "language_info": {
      "name": "python"
    }
  },
  "cells": [
    {
      "cell_type": "markdown",
      "metadata": {
        "id": "view-in-github",
        "colab_type": "text"
      },
      "source": [
        "<a href=\"https://colab.research.google.com/github/ferdinand-popp/MEDS-Detection/blob/main/Hackathon_notebook_colab.ipynb\" target=\"_parent\"><img src=\"https://colab.research.google.com/assets/colab-badge.svg\" alt=\"Open In Colab\"/></a>"
      ]
    },
    {
      "cell_type": "code",
      "metadata": {
        "id": "zL-zchlVPdH4"
      },
      "source": [
        ""
      ],
      "execution_count": 133,
      "outputs": []
    },
    {
      "cell_type": "markdown",
      "metadata": {
        "id": "9GKBwR0tQbk8"
      },
      "source": [
        "Goal of this notebook is to classify wrong diagnoses to ensure data quality.\n",
        "\n",
        "The notebook is structured as follows:\n",
        "\n",
        "1) Data\n",
        "\n",
        "1a) Data Basics (Read in data, cleaning)\n",
        "\n",
        "1b) Data Exploration (Overview variables, distributions of interesting variables, correlation plot)\n",
        "\n",
        "1c) Feature Engineering\n",
        "\n",
        "2) Model\n",
        "\n",
        "3) Evaluation \n",
        "\n",
        "\n"
      ]
    },
    {
      "cell_type": "markdown",
      "metadata": {
        "id": "zyGRekLHTU6U"
      },
      "source": [
        "# 0) Imports\n"
      ]
    },
    {
      "cell_type": "code",
      "metadata": {
        "id": "LF24PtXgTXAG",
        "colab": {
          "base_uri": "https://localhost:8080/"
        },
        "outputId": "885384e5-8ab6-4858-a9b1-afa365cd56f9"
      },
      "source": [
        "import pandas as pd\n",
        "import numpy as np\n",
        "import seaborn as sns\n",
        "import matplotlib.pyplot as plt\n",
        "from datetime import date, datetime\n",
        "from sklearn.model_selection import train_test_split\n",
        "from sklearn.datasets import load_iris\n",
        "import random\n",
        "from sklearn.preprocessing import OneHotEncoder\n",
        "import numpy as np\n",
        "\n",
        "\n",
        "import statsmodels.api as sm\n",
        "from scipy.io import arff\n",
        "\n",
        "from sklearn.preprocessing import StandardScaler, MinMaxScaler\n",
        "from sklearn.linear_model import LogisticRegression, LassoCV\n",
        "from sklearn.model_selection import train_test_split, cross_val_score, GridSearchCV\n",
        "from sklearn import metrics\n",
        "from sklearn.feature_selection import SelectFromModel, RFE\n",
        "#from imblearn.over_sampling import RandomOverSampler, SMOTE\n",
        "\n",
        "from google.colab import drive\n",
        "drive.mount('/content/gdrive')"
      ],
      "execution_count": 134,
      "outputs": [
        {
          "output_type": "stream",
          "name": "stdout",
          "text": [
            "Drive already mounted at /content/gdrive; to attempt to forcibly remount, call drive.mount(\"/content/gdrive\", force_remount=True).\n"
          ]
        }
      ]
    },
    {
      "cell_type": "markdown",
      "metadata": {
        "id": "AoyE3wQ8Qww5"
      },
      "source": [
        "# 1. Data"
      ]
    },
    {
      "cell_type": "markdown",
      "metadata": {
        "id": "bsS71wnySQq6"
      },
      "source": [
        "## a) Data Basics"
      ]
    },
    {
      "cell_type": "code",
      "metadata": {
        "id": "Q9FJvtSjQqgU"
      },
      "source": [
        "# read in data\n",
        "path = r'./gdrive/MyDrive/Hackathon/Data/csv 1000/'\n",
        "\n",
        "patientsDF = pd.read_csv(path + \"patients.csv\", sep=';')\n",
        "careplansDF= pd.read_csv(path + \"careplans.csv\", sep=\";\")\n",
        "encountersDF= pd.read_csv(path + \"encounters.csv\", sep=\";\")\n",
        "medicationsDF= pd.read_csv(path + \"medications.csv\", sep=\";\")\n"
      ],
      "execution_count": 135,
      "outputs": []
    },
    {
      "cell_type": "code",
      "metadata": {
        "id": "nrAuakiKTdC9",
        "colab": {
          "base_uri": "https://localhost:8080/",
          "height": 617
        },
        "outputId": "36c3cd2c-1463-4221-a533-1b6e34d2ed36"
      },
      "source": [
        "# general inspection\n",
        "patientsDF"
      ],
      "execution_count": 136,
      "outputs": [
        {
          "output_type": "execute_result",
          "data": {
            "text/html": [
              "<div>\n",
              "<style scoped>\n",
              "    .dataframe tbody tr th:only-of-type {\n",
              "        vertical-align: middle;\n",
              "    }\n",
              "\n",
              "    .dataframe tbody tr th {\n",
              "        vertical-align: top;\n",
              "    }\n",
              "\n",
              "    .dataframe thead th {\n",
              "        text-align: right;\n",
              "    }\n",
              "</style>\n",
              "<table border=\"1\" class=\"dataframe\">\n",
              "  <thead>\n",
              "    <tr style=\"text-align: right;\">\n",
              "      <th></th>\n",
              "      <th>Id</th>\n",
              "      <th>BIRTHDATE</th>\n",
              "      <th>DEATHDATE</th>\n",
              "      <th>RACE</th>\n",
              "      <th>ETHNICITY</th>\n",
              "      <th>GENDER</th>\n",
              "      <th>LAT</th>\n",
              "      <th>LON</th>\n",
              "      <th>HEALTHCARE_EXPENSES</th>\n",
              "      <th>HEALTHCARE_COVERAGE</th>\n",
              "    </tr>\n",
              "  </thead>\n",
              "  <tbody>\n",
              "    <tr>\n",
              "      <th>0</th>\n",
              "      <td>9fedb279-262a-0c53-f492-32187aef6790</td>\n",
              "      <td>2020-10-15</td>\n",
              "      <td>NaN</td>\n",
              "      <td>white</td>\n",
              "      <td>nonhispanic</td>\n",
              "      <td>F</td>\n",
              "      <td>4.170.413.601.741.240</td>\n",
              "      <td>-7.089.549.216.918.610</td>\n",
              "      <td>25.264.697.500.000.000</td>\n",
              "      <td>26.690.924.999.999.900</td>\n",
              "    </tr>\n",
              "    <tr>\n",
              "      <th>1</th>\n",
              "      <td>4fa083ee-cbc8-0375-40ec-ad7ccad1c6b0</td>\n",
              "      <td>2021-06-29</td>\n",
              "      <td>NaN</td>\n",
              "      <td>white</td>\n",
              "      <td>hispanic</td>\n",
              "      <td>F</td>\n",
              "      <td>42.429.405.553.483.700</td>\n",
              "      <td>-7.156.239.083.645.270</td>\n",
              "      <td>9008.67</td>\n",
              "      <td>0.0</td>\n",
              "    </tr>\n",
              "    <tr>\n",
              "      <th>2</th>\n",
              "      <td>b3fae15c-08b7-8bb6-834e-773aa2602c8f</td>\n",
              "      <td>1981-11-30</td>\n",
              "      <td>NaN</td>\n",
              "      <td>other</td>\n",
              "      <td>nonhispanic</td>\n",
              "      <td>M</td>\n",
              "      <td>4.245.436.340.147.450</td>\n",
              "      <td>-7.102.399.195.874.750</td>\n",
              "      <td>10.183.040.375.000.000</td>\n",
              "      <td>163.559.025</td>\n",
              "    </tr>\n",
              "    <tr>\n",
              "      <th>3</th>\n",
              "      <td>f54d52f1-05ca-c0da-bcfe-d1d53df105e8</td>\n",
              "      <td>1977-05-06</td>\n",
              "      <td>NaN</td>\n",
              "      <td>white</td>\n",
              "      <td>nonhispanic</td>\n",
              "      <td>F</td>\n",
              "      <td>4.204.790.290.548.330</td>\n",
              "      <td>-7.070.889.608.289.330</td>\n",
              "      <td>15.454.890.009.999.900</td>\n",
              "      <td>12.321.389.789.999.900</td>\n",
              "    </tr>\n",
              "    <tr>\n",
              "      <th>4</th>\n",
              "      <td>58b1e070-397c-0002-7304-0cbd55c03e6e</td>\n",
              "      <td>1994-06-23</td>\n",
              "      <td>NaN</td>\n",
              "      <td>white</td>\n",
              "      <td>nonhispanic</td>\n",
              "      <td>F</td>\n",
              "      <td>4.238.415.474.074.480</td>\n",
              "      <td>-7.114.120.034.354.770</td>\n",
              "      <td>14.277.719.845</td>\n",
              "      <td>37.456.861.549.999.900</td>\n",
              "    </tr>\n",
              "    <tr>\n",
              "      <th>...</th>\n",
              "      <td>...</td>\n",
              "      <td>...</td>\n",
              "      <td>...</td>\n",
              "      <td>...</td>\n",
              "      <td>...</td>\n",
              "      <td>...</td>\n",
              "      <td>...</td>\n",
              "      <td>...</td>\n",
              "      <td>...</td>\n",
              "      <td>...</td>\n",
              "    </tr>\n",
              "    <tr>\n",
              "      <th>1143</th>\n",
              "      <td>ea5105be-6238-51b7-c4ee-8b6e0e9c394f</td>\n",
              "      <td>1970-08-06</td>\n",
              "      <td>NaN</td>\n",
              "      <td>asian</td>\n",
              "      <td>nonhispanic</td>\n",
              "      <td>M</td>\n",
              "      <td>4.237.263.714.827.380</td>\n",
              "      <td>-7.109.255.494.339.590</td>\n",
              "      <td>9.290.775.674.999.990</td>\n",
              "      <td>62.648.625</td>\n",
              "    </tr>\n",
              "    <tr>\n",
              "      <th>1144</th>\n",
              "      <td>56f5710a-398f-4791-1c84-2787508d076c</td>\n",
              "      <td>1986-09-27</td>\n",
              "      <td>NaN</td>\n",
              "      <td>white</td>\n",
              "      <td>nonhispanic</td>\n",
              "      <td>F</td>\n",
              "      <td>4.170.143.358.645.440</td>\n",
              "      <td>-7.106.891.494.421.640</td>\n",
              "      <td>8.430.503.805.000.000</td>\n",
              "      <td>5.165.554.294.999.990</td>\n",
              "    </tr>\n",
              "    <tr>\n",
              "      <th>1145</th>\n",
              "      <td>c04e2562-938a-4aea-47b9-91f570d46fed</td>\n",
              "      <td>1923-03-20</td>\n",
              "      <td>2010-10-24</td>\n",
              "      <td>white</td>\n",
              "      <td>nonhispanic</td>\n",
              "      <td>M</td>\n",
              "      <td>4.236.228.503.939.260</td>\n",
              "      <td>-7.127.483.165.021.970</td>\n",
              "      <td>24.448.919.955</td>\n",
              "      <td>24.458.167.245.000.000</td>\n",
              "    </tr>\n",
              "    <tr>\n",
              "      <th>1146</th>\n",
              "      <td>f5f0451c-e3fd-8c31-68dd-0987f55650c7</td>\n",
              "      <td>1923-03-20</td>\n",
              "      <td>1989-03-12</td>\n",
              "      <td>white</td>\n",
              "      <td>nonhispanic</td>\n",
              "      <td>M</td>\n",
              "      <td>42.360.455.574.656.900</td>\n",
              "      <td>-7.125.753.368.990.860</td>\n",
              "      <td>16.761.742.049.999.900</td>\n",
              "      <td>14.369.935</td>\n",
              "    </tr>\n",
              "    <tr>\n",
              "      <th>1147</th>\n",
              "      <td>160651e4-4c7f-e52b-7595-122c389c8565</td>\n",
              "      <td>1923-03-20</td>\n",
              "      <td>NaN</td>\n",
              "      <td>white</td>\n",
              "      <td>nonhispanic</td>\n",
              "      <td>M</td>\n",
              "      <td>4.233.734.302.156.260</td>\n",
              "      <td>-7.119.583.270.683.720</td>\n",
              "      <td>2366108.73</td>\n",
              "      <td>11.101.587.000.000.000</td>\n",
              "    </tr>\n",
              "  </tbody>\n",
              "</table>\n",
              "<p>1148 rows × 10 columns</p>\n",
              "</div>"
            ],
            "text/plain": [
              "                                        Id  ...     HEALTHCARE_COVERAGE\n",
              "0     9fedb279-262a-0c53-f492-32187aef6790  ...  26.690.924.999.999.900\n",
              "1     4fa083ee-cbc8-0375-40ec-ad7ccad1c6b0  ...                     0.0\n",
              "2     b3fae15c-08b7-8bb6-834e-773aa2602c8f  ...             163.559.025\n",
              "3     f54d52f1-05ca-c0da-bcfe-d1d53df105e8  ...  12.321.389.789.999.900\n",
              "4     58b1e070-397c-0002-7304-0cbd55c03e6e  ...  37.456.861.549.999.900\n",
              "...                                    ...  ...                     ...\n",
              "1143  ea5105be-6238-51b7-c4ee-8b6e0e9c394f  ...              62.648.625\n",
              "1144  56f5710a-398f-4791-1c84-2787508d076c  ...   5.165.554.294.999.990\n",
              "1145  c04e2562-938a-4aea-47b9-91f570d46fed  ...  24.458.167.245.000.000\n",
              "1146  f5f0451c-e3fd-8c31-68dd-0987f55650c7  ...              14.369.935\n",
              "1147  160651e4-4c7f-e52b-7595-122c389c8565  ...  11.101.587.000.000.000\n",
              "\n",
              "[1148 rows x 10 columns]"
            ]
          },
          "metadata": {},
          "execution_count": 136
        }
      ]
    },
    {
      "cell_type": "code",
      "metadata": {
        "colab": {
          "base_uri": "https://localhost:8080/",
          "height": 380
        },
        "id": "1IZoN5A8ZfDQ",
        "outputId": "c5878c8e-6b92-4345-b48d-d0330d79b197"
      },
      "source": [
        " careplansDF.head()"
      ],
      "execution_count": 137,
      "outputs": [
        {
          "output_type": "execute_result",
          "data": {
            "text/html": [
              "<div>\n",
              "<style scoped>\n",
              "    .dataframe tbody tr th:only-of-type {\n",
              "        vertical-align: middle;\n",
              "    }\n",
              "\n",
              "    .dataframe tbody tr th {\n",
              "        vertical-align: top;\n",
              "    }\n",
              "\n",
              "    .dataframe thead th {\n",
              "        text-align: right;\n",
              "    }\n",
              "</style>\n",
              "<table border=\"1\" class=\"dataframe\">\n",
              "  <thead>\n",
              "    <tr style=\"text-align: right;\">\n",
              "      <th></th>\n",
              "      <th>Id</th>\n",
              "      <th>START</th>\n",
              "      <th>STOP</th>\n",
              "      <th>PATIENT</th>\n",
              "      <th>ENCOUNTER</th>\n",
              "      <th>CODE</th>\n",
              "      <th>REASONCODE</th>\n",
              "    </tr>\n",
              "  </thead>\n",
              "  <tbody>\n",
              "    <tr>\n",
              "      <th>0</th>\n",
              "      <td>e829a7db-6738-0ab3-2b30-16a87558e060</td>\n",
              "      <td>1993-12-20</td>\n",
              "      <td>NaN</td>\n",
              "      <td>b3fae15c-08b7-8bb6-834e-773aa2602c8f</td>\n",
              "      <td>9285b8f3-901f-765e-eaa8-b362ed6ec46e</td>\n",
              "      <td>718361005</td>\n",
              "      <td>NaN</td>\n",
              "    </tr>\n",
              "    <tr>\n",
              "      <th>1</th>\n",
              "      <td>99b8af2f-c887-990c-3511-802dc2ad189e</td>\n",
              "      <td>2014-04-01</td>\n",
              "      <td>2014-04-15</td>\n",
              "      <td>b3fae15c-08b7-8bb6-834e-773aa2602c8f</td>\n",
              "      <td>7eb068ea-fc37-9c47-17fa-5d33f416d7db</td>\n",
              "      <td>225358003</td>\n",
              "      <td>370247008</td>\n",
              "    </tr>\n",
              "    <tr>\n",
              "      <th>2</th>\n",
              "      <td>6597f66c-802b-140c-0607-3381e947c607</td>\n",
              "      <td>2002-07-12</td>\n",
              "      <td>NaN</td>\n",
              "      <td>f54d52f1-05ca-c0da-bcfe-d1d53df105e8</td>\n",
              "      <td>74769ac9-ceb1-8c49-7658-34215ea1fefd</td>\n",
              "      <td>698360004</td>\n",
              "      <td>15777000</td>\n",
              "    </tr>\n",
              "    <tr>\n",
              "      <th>3</th>\n",
              "      <td>83cbb58f-0eb0-1996-93d4-93076afb7c5b</td>\n",
              "      <td>2012-07-20</td>\n",
              "      <td>2013-02-22</td>\n",
              "      <td>f54d52f1-05ca-c0da-bcfe-d1d53df105e8</td>\n",
              "      <td>1794e942-f6dd-7cec-781b-77ff3f678f52</td>\n",
              "      <td>134435003</td>\n",
              "      <td>72892002</td>\n",
              "    </tr>\n",
              "    <tr>\n",
              "      <th>4</th>\n",
              "      <td>14b13470-52df-2ab4-ce89-d3d7f8dda2c5</td>\n",
              "      <td>2013-05-01</td>\n",
              "      <td>2013-05-15</td>\n",
              "      <td>f54d52f1-05ca-c0da-bcfe-d1d53df105e8</td>\n",
              "      <td>4e9640e3-5488-0fca-7c2b-bdde742f9f41</td>\n",
              "      <td>737471002</td>\n",
              "      <td>NaN</td>\n",
              "    </tr>\n",
              "  </tbody>\n",
              "</table>\n",
              "</div>"
            ],
            "text/plain": [
              "                                     Id       START  ...       CODE REASONCODE\n",
              "0  e829a7db-6738-0ab3-2b30-16a87558e060  1993-12-20  ...  718361005        NaN\n",
              "1  99b8af2f-c887-990c-3511-802dc2ad189e  2014-04-01  ...  225358003  370247008\n",
              "2  6597f66c-802b-140c-0607-3381e947c607  2002-07-12  ...  698360004   15777000\n",
              "3  83cbb58f-0eb0-1996-93d4-93076afb7c5b  2012-07-20  ...  134435003   72892002\n",
              "4  14b13470-52df-2ab4-ce89-d3d7f8dda2c5  2013-05-01  ...  737471002        NaN\n",
              "\n",
              "[5 rows x 7 columns]"
            ]
          },
          "metadata": {},
          "execution_count": 137
        }
      ]
    },
    {
      "cell_type": "code",
      "metadata": {
        "colab": {
          "base_uri": "https://localhost:8080/",
          "height": 400
        },
        "id": "1G_tvQxmZghW",
        "outputId": "9ae04715-b335-490d-d0ac-3bf15bd5edd9"
      },
      "source": [
        "encountersDF.head()"
      ],
      "execution_count": 138,
      "outputs": [
        {
          "output_type": "execute_result",
          "data": {
            "text/html": [
              "<div>\n",
              "<style scoped>\n",
              "    .dataframe tbody tr th:only-of-type {\n",
              "        vertical-align: middle;\n",
              "    }\n",
              "\n",
              "    .dataframe tbody tr th {\n",
              "        vertical-align: top;\n",
              "    }\n",
              "\n",
              "    .dataframe thead th {\n",
              "        text-align: right;\n",
              "    }\n",
              "</style>\n",
              "<table border=\"1\" class=\"dataframe\">\n",
              "  <thead>\n",
              "    <tr style=\"text-align: right;\">\n",
              "      <th></th>\n",
              "      <th>Id</th>\n",
              "      <th>START</th>\n",
              "      <th>STOP</th>\n",
              "      <th>PATIENT</th>\n",
              "      <th>CODE</th>\n",
              "      <th>BASE_ENCOUNTER_COST</th>\n",
              "      <th>TOTAL_CLAIM_COST</th>\n",
              "    </tr>\n",
              "  </thead>\n",
              "  <tbody>\n",
              "    <tr>\n",
              "      <th>0</th>\n",
              "      <td>753370ed-5855-0eb1-3ac8-52394a404ef7</td>\n",
              "      <td>2021-06-29T09:30:38Z</td>\n",
              "      <td>2021-06-29T09:45:38Z</td>\n",
              "      <td>4fa083ee-cbc8-0375-40ec-ad7ccad1c6b0</td>\n",
              "      <td>410620009</td>\n",
              "      <td>129.16</td>\n",
              "      <td>269.68</td>\n",
              "    </tr>\n",
              "    <tr>\n",
              "      <th>1</th>\n",
              "      <td>4f789064-7fd0-1d8b-53c1-f17b543f7154</td>\n",
              "      <td>2020-10-15T16:34:49Z</td>\n",
              "      <td>2020-10-15T16:49:49Z</td>\n",
              "      <td>9fedb279-262a-0c53-f492-32187aef6790</td>\n",
              "      <td>410620009</td>\n",
              "      <td>129.16</td>\n",
              "      <td>1017.22</td>\n",
              "    </tr>\n",
              "    <tr>\n",
              "      <th>2</th>\n",
              "      <td>ed700002-1246-2f52-f79a-e09924e7eaef</td>\n",
              "      <td>2021-08-03T09:30:38Z</td>\n",
              "      <td>2021-08-03T09:45:38Z</td>\n",
              "      <td>4fa083ee-cbc8-0375-40ec-ad7ccad1c6b0</td>\n",
              "      <td>410620009</td>\n",
              "      <td>129.16</td>\n",
              "      <td>269.68</td>\n",
              "    </tr>\n",
              "    <tr>\n",
              "      <th>3</th>\n",
              "      <td>257337a1-ff17-a943-b5ab-b3399db896d1</td>\n",
              "      <td>2020-11-19T16:34:49Z</td>\n",
              "      <td>2020-11-19T16:49:49Z</td>\n",
              "      <td>9fedb279-262a-0c53-f492-32187aef6790</td>\n",
              "      <td>410620009</td>\n",
              "      <td>129.16</td>\n",
              "      <td>269.68</td>\n",
              "    </tr>\n",
              "    <tr>\n",
              "      <th>4</th>\n",
              "      <td>0866f60f-8ca3-3e65-776d-4964a5d86044</td>\n",
              "      <td>2021-01-21T16:34:49Z</td>\n",
              "      <td>2021-01-21T16:49:49Z</td>\n",
              "      <td>9fedb279-262a-0c53-f492-32187aef6790</td>\n",
              "      <td>410620009</td>\n",
              "      <td>129.16</td>\n",
              "      <td>1376.72</td>\n",
              "    </tr>\n",
              "  </tbody>\n",
              "</table>\n",
              "</div>"
            ],
            "text/plain": [
              "                                     Id  ... TOTAL_CLAIM_COST\n",
              "0  753370ed-5855-0eb1-3ac8-52394a404ef7  ...           269.68\n",
              "1  4f789064-7fd0-1d8b-53c1-f17b543f7154  ...          1017.22\n",
              "2  ed700002-1246-2f52-f79a-e09924e7eaef  ...           269.68\n",
              "3  257337a1-ff17-a943-b5ab-b3399db896d1  ...           269.68\n",
              "4  0866f60f-8ca3-3e65-776d-4964a5d86044  ...          1376.72\n",
              "\n",
              "[5 rows x 7 columns]"
            ]
          },
          "metadata": {},
          "execution_count": 138
        }
      ]
    },
    {
      "cell_type": "code",
      "metadata": {
        "colab": {
          "base_uri": "https://localhost:8080/",
          "height": 293
        },
        "id": "c4J_dm1NZijd",
        "outputId": "7d2c6bb4-3015-4330-cc56-d924c41f5f0f"
      },
      "source": [
        "medicationsDF.head()"
      ],
      "execution_count": 139,
      "outputs": [
        {
          "output_type": "execute_result",
          "data": {
            "text/html": [
              "<div>\n",
              "<style scoped>\n",
              "    .dataframe tbody tr th:only-of-type {\n",
              "        vertical-align: middle;\n",
              "    }\n",
              "\n",
              "    .dataframe tbody tr th {\n",
              "        vertical-align: top;\n",
              "    }\n",
              "\n",
              "    .dataframe thead th {\n",
              "        text-align: right;\n",
              "    }\n",
              "</style>\n",
              "<table border=\"1\" class=\"dataframe\">\n",
              "  <thead>\n",
              "    <tr style=\"text-align: right;\">\n",
              "      <th></th>\n",
              "      <th>START</th>\n",
              "      <th>STOP</th>\n",
              "      <th>PATIENT</th>\n",
              "      <th>ENCOUNTER</th>\n",
              "      <th>CODE</th>\n",
              "      <th>REASONCODE</th>\n",
              "    </tr>\n",
              "  </thead>\n",
              "  <tbody>\n",
              "    <tr>\n",
              "      <th>0</th>\n",
              "      <td>2011-10-20T04:40:35Z</td>\n",
              "      <td>2011-11-13T04:40:35Z</td>\n",
              "      <td>b3fae15c-08b7-8bb6-834e-773aa2602c8f</td>\n",
              "      <td>db159278-74e8-06fc-3e75-842aaa1455cb</td>\n",
              "      <td>562251</td>\n",
              "      <td>444814009</td>\n",
              "    </tr>\n",
              "    <tr>\n",
              "      <th>1</th>\n",
              "      <td>2021-10-10T16:34:49Z</td>\n",
              "      <td>NaN</td>\n",
              "      <td>9fedb279-262a-0c53-f492-32187aef6790</td>\n",
              "      <td>66e90df2-c8e2-1083-b0a0-a81d2b91b508</td>\n",
              "      <td>198405</td>\n",
              "      <td>NaN</td>\n",
              "    </tr>\n",
              "    <tr>\n",
              "      <th>2</th>\n",
              "      <td>2014-04-01T01:23:00Z</td>\n",
              "      <td>2014-04-15T01:23:00Z</td>\n",
              "      <td>b3fae15c-08b7-8bb6-834e-773aa2602c8f</td>\n",
              "      <td>7eb068ea-fc37-9c47-17fa-5d33f416d7db</td>\n",
              "      <td>849574</td>\n",
              "      <td>NaN</td>\n",
              "    </tr>\n",
              "    <tr>\n",
              "      <th>3</th>\n",
              "      <td>2018-01-18T08:40:35Z</td>\n",
              "      <td>2018-02-05T08:40:35Z</td>\n",
              "      <td>b3fae15c-08b7-8bb6-834e-773aa2602c8f</td>\n",
              "      <td>ebce6168-26ce-1437-b2f5-0451bfd1f63f</td>\n",
              "      <td>562251</td>\n",
              "      <td>444814009</td>\n",
              "    </tr>\n",
              "    <tr>\n",
              "      <th>4</th>\n",
              "      <td>2000-10-27T02:35:25Z</td>\n",
              "      <td>NaN</td>\n",
              "      <td>f54d52f1-05ca-c0da-bcfe-d1d53df105e8</td>\n",
              "      <td>aa59b9b2-320f-2b9e-417a-97206bf6fac3</td>\n",
              "      <td>310325</td>\n",
              "      <td>NaN</td>\n",
              "    </tr>\n",
              "  </tbody>\n",
              "</table>\n",
              "</div>"
            ],
            "text/plain": [
              "                  START                  STOP  ...    CODE REASONCODE\n",
              "0  2011-10-20T04:40:35Z  2011-11-13T04:40:35Z  ...  562251  444814009\n",
              "1  2021-10-10T16:34:49Z                   NaN  ...  198405        NaN\n",
              "2  2014-04-01T01:23:00Z  2014-04-15T01:23:00Z  ...  849574        NaN\n",
              "3  2018-01-18T08:40:35Z  2018-02-05T08:40:35Z  ...  562251  444814009\n",
              "4  2000-10-27T02:35:25Z                   NaN  ...  310325        NaN\n",
              "\n",
              "[5 rows x 6 columns]"
            ]
          },
          "metadata": {},
          "execution_count": 139
        }
      ]
    },
    {
      "cell_type": "code",
      "metadata": {
        "id": "vdHTeHnKfaoD",
        "colab": {
          "base_uri": "https://localhost:8080/",
          "height": 226
        },
        "outputId": "e522cf56-6401-49b0-8fa7-28f6c7633bb6"
      },
      "source": [
        "df = patientsDF.merge(encountersDF, left_on='Id', right_on='PATIENT', how='inner')\n",
        "df = df.drop(columns=['Id_x'])\n",
        "df = df.merge(medicationsDF, left_on =['Id_y', 'PATIENT'], right_on=['ENCOUNTER', 'PATIENT'], how='left')\n",
        "df = df.merge(careplansDF, left_on=['Id_y', 'PATIENT'], right_on=['ENCOUNTER', 'PATIENT'], how='left')\n",
        "df = df.drop(columns=[\"HEALTHCARE_EXPENSES\", \"HEALTHCARE_COVERAGE\", \"Id_y\", \"PATIENT\", \"BASE_ENCOUNTER_COST\", \"ENCOUNTER_x\", \"Id\", \"ENCOUNTER_y\"], axis=1)\n",
        "df.head()"
      ],
      "execution_count": 140,
      "outputs": [
        {
          "output_type": "execute_result",
          "data": {
            "text/html": [
              "<div>\n",
              "<style scoped>\n",
              "    .dataframe tbody tr th:only-of-type {\n",
              "        vertical-align: middle;\n",
              "    }\n",
              "\n",
              "    .dataframe tbody tr th {\n",
              "        vertical-align: top;\n",
              "    }\n",
              "\n",
              "    .dataframe thead th {\n",
              "        text-align: right;\n",
              "    }\n",
              "</style>\n",
              "<table border=\"1\" class=\"dataframe\">\n",
              "  <thead>\n",
              "    <tr style=\"text-align: right;\">\n",
              "      <th></th>\n",
              "      <th>BIRTHDATE</th>\n",
              "      <th>DEATHDATE</th>\n",
              "      <th>RACE</th>\n",
              "      <th>ETHNICITY</th>\n",
              "      <th>GENDER</th>\n",
              "      <th>LAT</th>\n",
              "      <th>LON</th>\n",
              "      <th>START_x</th>\n",
              "      <th>STOP_x</th>\n",
              "      <th>CODE_x</th>\n",
              "      <th>TOTAL_CLAIM_COST</th>\n",
              "      <th>START_y</th>\n",
              "      <th>STOP_y</th>\n",
              "      <th>CODE_y</th>\n",
              "      <th>REASONCODE_x</th>\n",
              "      <th>START</th>\n",
              "      <th>STOP</th>\n",
              "      <th>CODE</th>\n",
              "      <th>REASONCODE_y</th>\n",
              "    </tr>\n",
              "  </thead>\n",
              "  <tbody>\n",
              "    <tr>\n",
              "      <th>0</th>\n",
              "      <td>2020-10-15</td>\n",
              "      <td>NaN</td>\n",
              "      <td>white</td>\n",
              "      <td>nonhispanic</td>\n",
              "      <td>F</td>\n",
              "      <td>4.170.413.601.741.240</td>\n",
              "      <td>-7.089.549.216.918.610</td>\n",
              "      <td>2020-10-15T16:34:49Z</td>\n",
              "      <td>2020-10-15T16:49:49Z</td>\n",
              "      <td>410620009</td>\n",
              "      <td>1017.22</td>\n",
              "      <td>NaN</td>\n",
              "      <td>NaN</td>\n",
              "      <td>NaN</td>\n",
              "      <td>NaN</td>\n",
              "      <td>NaN</td>\n",
              "      <td>NaN</td>\n",
              "      <td>NaN</td>\n",
              "      <td>NaN</td>\n",
              "    </tr>\n",
              "    <tr>\n",
              "      <th>1</th>\n",
              "      <td>2020-10-15</td>\n",
              "      <td>NaN</td>\n",
              "      <td>white</td>\n",
              "      <td>nonhispanic</td>\n",
              "      <td>F</td>\n",
              "      <td>4.170.413.601.741.240</td>\n",
              "      <td>-7.089.549.216.918.610</td>\n",
              "      <td>2020-11-19T16:34:49Z</td>\n",
              "      <td>2020-11-19T16:49:49Z</td>\n",
              "      <td>410620009</td>\n",
              "      <td>269.68</td>\n",
              "      <td>NaN</td>\n",
              "      <td>NaN</td>\n",
              "      <td>NaN</td>\n",
              "      <td>NaN</td>\n",
              "      <td>NaN</td>\n",
              "      <td>NaN</td>\n",
              "      <td>NaN</td>\n",
              "      <td>NaN</td>\n",
              "    </tr>\n",
              "    <tr>\n",
              "      <th>2</th>\n",
              "      <td>2020-10-15</td>\n",
              "      <td>NaN</td>\n",
              "      <td>white</td>\n",
              "      <td>nonhispanic</td>\n",
              "      <td>F</td>\n",
              "      <td>4.170.413.601.741.240</td>\n",
              "      <td>-7.089.549.216.918.610</td>\n",
              "      <td>2021-01-21T16:34:49Z</td>\n",
              "      <td>2021-01-21T16:49:49Z</td>\n",
              "      <td>410620009</td>\n",
              "      <td>1376.72</td>\n",
              "      <td>NaN</td>\n",
              "      <td>NaN</td>\n",
              "      <td>NaN</td>\n",
              "      <td>NaN</td>\n",
              "      <td>NaN</td>\n",
              "      <td>NaN</td>\n",
              "      <td>NaN</td>\n",
              "      <td>NaN</td>\n",
              "    </tr>\n",
              "    <tr>\n",
              "      <th>3</th>\n",
              "      <td>2020-10-15</td>\n",
              "      <td>NaN</td>\n",
              "      <td>white</td>\n",
              "      <td>nonhispanic</td>\n",
              "      <td>F</td>\n",
              "      <td>4.170.413.601.741.240</td>\n",
              "      <td>-7.089.549.216.918.610</td>\n",
              "      <td>2021-03-25T16:34:49Z</td>\n",
              "      <td>2021-03-25T16:49:49Z</td>\n",
              "      <td>410620009</td>\n",
              "      <td>831.76</td>\n",
              "      <td>NaN</td>\n",
              "      <td>NaN</td>\n",
              "      <td>NaN</td>\n",
              "      <td>NaN</td>\n",
              "      <td>NaN</td>\n",
              "      <td>NaN</td>\n",
              "      <td>NaN</td>\n",
              "      <td>NaN</td>\n",
              "    </tr>\n",
              "    <tr>\n",
              "      <th>4</th>\n",
              "      <td>2020-10-15</td>\n",
              "      <td>NaN</td>\n",
              "      <td>white</td>\n",
              "      <td>nonhispanic</td>\n",
              "      <td>F</td>\n",
              "      <td>4.170.413.601.741.240</td>\n",
              "      <td>-7.089.549.216.918.610</td>\n",
              "      <td>2021-06-24T16:34:49Z</td>\n",
              "      <td>2021-06-24T16:49:49Z</td>\n",
              "      <td>410620009</td>\n",
              "      <td>831.76</td>\n",
              "      <td>NaN</td>\n",
              "      <td>NaN</td>\n",
              "      <td>NaN</td>\n",
              "      <td>NaN</td>\n",
              "      <td>NaN</td>\n",
              "      <td>NaN</td>\n",
              "      <td>NaN</td>\n",
              "      <td>NaN</td>\n",
              "    </tr>\n",
              "  </tbody>\n",
              "</table>\n",
              "</div>"
            ],
            "text/plain": [
              "    BIRTHDATE DEATHDATE   RACE    ETHNICITY  ... START STOP CODE REASONCODE_y\n",
              "0  2020-10-15       NaN  white  nonhispanic  ...   NaN  NaN  NaN          NaN\n",
              "1  2020-10-15       NaN  white  nonhispanic  ...   NaN  NaN  NaN          NaN\n",
              "2  2020-10-15       NaN  white  nonhispanic  ...   NaN  NaN  NaN          NaN\n",
              "3  2020-10-15       NaN  white  nonhispanic  ...   NaN  NaN  NaN          NaN\n",
              "4  2020-10-15       NaN  white  nonhispanic  ...   NaN  NaN  NaN          NaN\n",
              "\n",
              "[5 rows x 19 columns]"
            ]
          },
          "metadata": {},
          "execution_count": 140
        }
      ]
    },
    {
      "cell_type": "code",
      "metadata": {
        "id": "kF608rTxCV2c"
      },
      "source": [
        "#rename columns\n",
        "df = df.rename(columns={\"STOP\":\"Stop Treatment\", \"REASONCODE_y\": \"Reasoncode_Careplan\", \"START\":\"Start Treatment\", \"CODE_x\":\"Diagnosis\", \"REASONCODE_x\":\"Reasoncode_Medication\", \"STOP_y\":\"Stop Careplan\", \"CODE\":\"Careplan\", \"START_y\":\"Start Careplan\", \"CODE_y\":\"Medication\", \"START_x\":\"Start Medication\", \"STOP_x\":\"Stop Medication\"})"
      ],
      "execution_count": 141,
      "outputs": []
    },
    {
      "cell_type": "code",
      "metadata": {
        "id": "kmMzKlDEKVr1"
      },
      "source": [
        "def age(medStart, born):\n",
        "    #born = datetime.strptime(born, \"%d/%m/%Y\").date()\n",
        "    #today = date.today()\n",
        "    return medStart.year - born.year - ((medStart.month, \n",
        "                                      medStart.day) < (born.month, \n",
        "                                                    born.day))"
      ],
      "execution_count": 142,
      "outputs": []
    },
    {
      "cell_type": "code",
      "metadata": {
        "id": "jg3a4yeDIpJ9"
      },
      "source": [
        "df['BIRTHDATE']= pd.to_datetime(df['BIRTHDATE'])\n",
        "df['Start Medication'] = pd.to_datetime(df['Start Medication'])\n",
        "df.dtypes\n",
        "\n",
        "df['Age'] = df.apply(lambda x: age(x['Start Medication'], x['BIRTHDATE']), axis=1)\n",
        "#df['Age'] = df['BIRTHDATE'].apply(age)\n",
        "#df = df.drop(columns=[\"BIRTHDATE\"])"
      ],
      "execution_count": 143,
      "outputs": []
    },
    {
      "cell_type": "code",
      "metadata": {
        "id": "GN4tivrwN2Mv"
      },
      "source": [
        "def isDead(dDate):\n",
        "  if pd.isna(dDate):\n",
        "    return 0\n",
        "  else:\n",
        "    return 1  "
      ],
      "execution_count": 144,
      "outputs": []
    },
    {
      "cell_type": "code",
      "metadata": {
        "id": "YuFMt_nQMGnb"
      },
      "source": [
        "df['Dead'] = df['DEATHDATE'].apply(isDead)\n",
        "df = df.drop(columns=['DEATHDATE'])"
      ],
      "execution_count": 145,
      "outputs": []
    },
    {
      "cell_type": "code",
      "metadata": {
        "id": "qoRCTIiMRTke"
      },
      "source": [
        "def difference(dayOne, dayTwo):\n",
        "    return (dayOne - dayTwo).dt.days"
      ],
      "execution_count": 146,
      "outputs": []
    },
    {
      "cell_type": "code",
      "metadata": {
        "id": "EmhJfzuzSEZK"
      },
      "source": [
        "\n",
        "df['Stop Medication'] = pd.to_datetime(df['Stop Medication'])\n",
        "df['Start Careplan'] = pd.to_datetime(df['Start Careplan'])\n",
        "df['Stop Careplan'] = pd.to_datetime(df['Stop Careplan'])\n",
        "df['Start Treatment'] = pd.to_datetime(df['Start Treatment'])\n",
        "df['Stop Treatment'] = pd.to_datetime(df['Stop Treatment'])\n",
        "\n",
        "\n",
        "df['Careplan length'] = (df['Stop Careplan'] - df['Start Careplan']).dt.days\n",
        "df = df.drop(columns=['Start Medication', 'Stop Medication', 'Start Careplan', 'Stop Careplan', 'Start Treatment', 'Stop Treatment'])"
      ],
      "execution_count": 147,
      "outputs": []
    },
    {
      "cell_type": "code",
      "metadata": {
        "id": "xpK5-Qqt2X3S"
      },
      "source": [
        "df = df.drop(columns=['LON', 'LAT'])"
      ],
      "execution_count": 148,
      "outputs": []
    },
    {
      "cell_type": "code",
      "metadata": {
        "colab": {
          "base_uri": "https://localhost:8080/"
        },
        "id": "t0YZDXd-NBg7",
        "outputId": "94a253c7-9b14-4dc7-d7d2-5b2af96355b6"
      },
      "source": [
        "df.dtypes"
      ],
      "execution_count": 149,
      "outputs": [
        {
          "output_type": "execute_result",
          "data": {
            "text/plain": [
              "BIRTHDATE                datetime64[ns]\n",
              "RACE                             object\n",
              "ETHNICITY                        object\n",
              "GENDER                           object\n",
              "Diagnosis                         int64\n",
              "TOTAL_CLAIM_COST                float64\n",
              "Medication                      float64\n",
              "Reasoncode_Medication            object\n",
              "Careplan                         object\n",
              "Reasoncode_Careplan              object\n",
              "Age                               int64\n",
              "Dead                              int64\n",
              "Careplan length                 float64\n",
              "dtype: object"
            ]
          },
          "metadata": {},
          "execution_count": 149
        }
      ]
    },
    {
      "cell_type": "code",
      "metadata": {
        "id": "BOJ68Q4DT-Q1",
        "colab": {
          "base_uri": "https://localhost:8080/"
        },
        "outputId": "a6195c5c-9d36-41e2-fddd-668951a71b8a"
      },
      "source": [
        "# missings\n",
        "df.isna().sum().sort_values(ascending=False) / len(df)"
      ],
      "execution_count": 150,
      "outputs": [
        {
          "output_type": "execute_result",
          "data": {
            "text/plain": [
              "Reasoncode_Careplan      0.955579\n",
              "Careplan                 0.948678\n",
              "Reasoncode_Medication    0.526333\n",
              "Careplan length          0.405712\n",
              "Medication               0.377053\n",
              "Dead                     0.000000\n",
              "Age                      0.000000\n",
              "TOTAL_CLAIM_COST         0.000000\n",
              "Diagnosis                0.000000\n",
              "GENDER                   0.000000\n",
              "ETHNICITY                0.000000\n",
              "RACE                     0.000000\n",
              "BIRTHDATE                0.000000\n",
              "dtype: float64"
            ]
          },
          "metadata": {},
          "execution_count": 150
        }
      ]
    },
    {
      "cell_type": "markdown",
      "metadata": {
        "id": "nHlbsiq3SSKk"
      },
      "source": [
        "## b) Data Exploration"
      ]
    },
    {
      "cell_type": "code",
      "metadata": {
        "id": "sLI8uiF8SXpY"
      },
      "source": [
        "# plot distributions of interesting variables"
      ],
      "execution_count": 151,
      "outputs": []
    },
    {
      "cell_type": "code",
      "metadata": {
        "id": "EnOdKRHlVGEA",
        "colab": {
          "base_uri": "https://localhost:8080/",
          "height": 378
        },
        "outputId": "aae68325-e4fa-4b2a-b25c-1b8d88bafd75"
      },
      "source": [
        "# plot correlations and kick non-necessary out\n",
        "\n",
        "\n",
        "corr = df.corr()\n",
        "\n",
        "sns.heatmap(corr, \n",
        "        xticklabels=corr.columns,\n",
        "        yticklabels=corr.columns)"
      ],
      "execution_count": 152,
      "outputs": [
        {
          "output_type": "execute_result",
          "data": {
            "text/plain": [
              "<matplotlib.axes._subplots.AxesSubplot at 0x7efec0528dd0>"
            ]
          },
          "metadata": {},
          "execution_count": 152
        },
        {
          "output_type": "display_data",
          "data": {
            "image/png": "[encoded data removed]",
            "text/plain": [
              "<Figure size 432x288 with 2 Axes>"
            ]
          },
          "metadata": {
            "needs_background": "light"
          }
        }
      ]
    },
    {
      "cell_type": "code",
      "metadata": {
        "id": "FpDESmzEVWYB",
        "colab": {
          "base_uri": "https://localhost:8080/",
          "height": 461
        },
        "outputId": "68cd0467-3bff-4e13-9fcc-aff091eeff3c"
      },
      "source": [
        "# plot outliers\n",
        "df"
      ],
      "execution_count": 153,
      "outputs": [
        {
          "output_type": "execute_result",
          "data": {
            "text/html": [
              "<div>\n",
              "<style scoped>\n",
              "    .dataframe tbody tr th:only-of-type {\n",
              "        vertical-align: middle;\n",
              "    }\n",
              "\n",
              "    .dataframe tbody tr th {\n",
              "        vertical-align: top;\n",
              "    }\n",
              "\n",
              "    .dataframe thead th {\n",
              "        text-align: right;\n",
              "    }\n",
              "</style>\n",
              "<table border=\"1\" class=\"dataframe\">\n",
              "  <thead>\n",
              "    <tr style=\"text-align: right;\">\n",
              "      <th></th>\n",
              "      <th>BIRTHDATE</th>\n",
              "      <th>RACE</th>\n",
              "      <th>ETHNICITY</th>\n",
              "      <th>GENDER</th>\n",
              "      <th>Diagnosis</th>\n",
              "      <th>TOTAL_CLAIM_COST</th>\n",
              "      <th>Medication</th>\n",
              "      <th>Reasoncode_Medication</th>\n",
              "      <th>Careplan</th>\n",
              "      <th>Reasoncode_Careplan</th>\n",
              "      <th>Age</th>\n",
              "      <th>Dead</th>\n",
              "      <th>Careplan length</th>\n",
              "    </tr>\n",
              "  </thead>\n",
              "  <tbody>\n",
              "    <tr>\n",
              "      <th>0</th>\n",
              "      <td>2020-10-15</td>\n",
              "      <td>white</td>\n",
              "      <td>nonhispanic</td>\n",
              "      <td>F</td>\n",
              "      <td>410620009</td>\n",
              "      <td>1017.22</td>\n",
              "      <td>NaN</td>\n",
              "      <td>NaN</td>\n",
              "      <td>NaN</td>\n",
              "      <td>NaN</td>\n",
              "      <td>0</td>\n",
              "      <td>0</td>\n",
              "      <td>NaN</td>\n",
              "    </tr>\n",
              "    <tr>\n",
              "      <th>1</th>\n",
              "      <td>2020-10-15</td>\n",
              "      <td>white</td>\n",
              "      <td>nonhispanic</td>\n",
              "      <td>F</td>\n",
              "      <td>410620009</td>\n",
              "      <td>269.68</td>\n",
              "      <td>NaN</td>\n",
              "      <td>NaN</td>\n",
              "      <td>NaN</td>\n",
              "      <td>NaN</td>\n",
              "      <td>0</td>\n",
              "      <td>0</td>\n",
              "      <td>NaN</td>\n",
              "    </tr>\n",
              "    <tr>\n",
              "      <th>2</th>\n",
              "      <td>2020-10-15</td>\n",
              "      <td>white</td>\n",
              "      <td>nonhispanic</td>\n",
              "      <td>F</td>\n",
              "      <td>410620009</td>\n",
              "      <td>1376.72</td>\n",
              "      <td>NaN</td>\n",
              "      <td>NaN</td>\n",
              "      <td>NaN</td>\n",
              "      <td>NaN</td>\n",
              "      <td>0</td>\n",
              "      <td>0</td>\n",
              "      <td>NaN</td>\n",
              "    </tr>\n",
              "    <tr>\n",
              "      <th>3</th>\n",
              "      <td>2020-10-15</td>\n",
              "      <td>white</td>\n",
              "      <td>nonhispanic</td>\n",
              "      <td>F</td>\n",
              "      <td>410620009</td>\n",
              "      <td>831.76</td>\n",
              "      <td>NaN</td>\n",
              "      <td>NaN</td>\n",
              "      <td>NaN</td>\n",
              "      <td>NaN</td>\n",
              "      <td>0</td>\n",
              "      <td>0</td>\n",
              "      <td>NaN</td>\n",
              "    </tr>\n",
              "    <tr>\n",
              "      <th>4</th>\n",
              "      <td>2020-10-15</td>\n",
              "      <td>white</td>\n",
              "      <td>nonhispanic</td>\n",
              "      <td>F</td>\n",
              "      <td>410620009</td>\n",
              "      <td>831.76</td>\n",
              "      <td>NaN</td>\n",
              "      <td>NaN</td>\n",
              "      <td>NaN</td>\n",
              "      <td>NaN</td>\n",
              "      <td>0</td>\n",
              "      <td>0</td>\n",
              "      <td>NaN</td>\n",
              "    </tr>\n",
              "    <tr>\n",
              "      <th>...</th>\n",
              "      <td>...</td>\n",
              "      <td>...</td>\n",
              "      <td>...</td>\n",
              "      <td>...</td>\n",
              "      <td>...</td>\n",
              "      <td>...</td>\n",
              "      <td>...</td>\n",
              "      <td>...</td>\n",
              "      <td>...</td>\n",
              "      <td>...</td>\n",
              "      <td>...</td>\n",
              "      <td>...</td>\n",
              "      <td>...</td>\n",
              "    </tr>\n",
              "    <tr>\n",
              "      <th>90717</th>\n",
              "      <td>1923-03-20</td>\n",
              "      <td>white</td>\n",
              "      <td>nonhispanic</td>\n",
              "      <td>M</td>\n",
              "      <td>162673000</td>\n",
              "      <td>786.33</td>\n",
              "      <td>312961.0</td>\n",
              "      <td>NaN</td>\n",
              "      <td>NaN</td>\n",
              "      <td>NaN</td>\n",
              "      <td>97</td>\n",
              "      <td>0</td>\n",
              "      <td>NaN</td>\n",
              "    </tr>\n",
              "    <tr>\n",
              "      <th>90718</th>\n",
              "      <td>1923-03-20</td>\n",
              "      <td>white</td>\n",
              "      <td>nonhispanic</td>\n",
              "      <td>M</td>\n",
              "      <td>162673000</td>\n",
              "      <td>786.33</td>\n",
              "      <td>197361.0</td>\n",
              "      <td>NaN</td>\n",
              "      <td>NaN</td>\n",
              "      <td>NaN</td>\n",
              "      <td>97</td>\n",
              "      <td>0</td>\n",
              "      <td>NaN</td>\n",
              "    </tr>\n",
              "    <tr>\n",
              "      <th>90719</th>\n",
              "      <td>1923-03-20</td>\n",
              "      <td>white</td>\n",
              "      <td>nonhispanic</td>\n",
              "      <td>M</td>\n",
              "      <td>33879002</td>\n",
              "      <td>269.68</td>\n",
              "      <td>NaN</td>\n",
              "      <td>NaN</td>\n",
              "      <td>NaN</td>\n",
              "      <td>NaN</td>\n",
              "      <td>97</td>\n",
              "      <td>0</td>\n",
              "      <td>NaN</td>\n",
              "    </tr>\n",
              "    <tr>\n",
              "      <th>90720</th>\n",
              "      <td>1923-03-20</td>\n",
              "      <td>white</td>\n",
              "      <td>nonhispanic</td>\n",
              "      <td>M</td>\n",
              "      <td>33879002</td>\n",
              "      <td>269.68</td>\n",
              "      <td>NaN</td>\n",
              "      <td>NaN</td>\n",
              "      <td>NaN</td>\n",
              "      <td>NaN</td>\n",
              "      <td>98</td>\n",
              "      <td>0</td>\n",
              "      <td>NaN</td>\n",
              "    </tr>\n",
              "    <tr>\n",
              "      <th>90721</th>\n",
              "      <td>1923-03-20</td>\n",
              "      <td>white</td>\n",
              "      <td>nonhispanic</td>\n",
              "      <td>M</td>\n",
              "      <td>390906007</td>\n",
              "      <td>77.49</td>\n",
              "      <td>314231.0</td>\n",
              "      <td>55822004</td>\n",
              "      <td>NaN</td>\n",
              "      <td>NaN</td>\n",
              "      <td>98</td>\n",
              "      <td>0</td>\n",
              "      <td>NaN</td>\n",
              "    </tr>\n",
              "  </tbody>\n",
              "</table>\n",
              "<p>90722 rows × 13 columns</p>\n",
              "</div>"
            ],
            "text/plain": [
              "       BIRTHDATE   RACE    ETHNICITY  ... Age  Dead  Careplan length\n",
              "0     2020-10-15  white  nonhispanic  ...   0     0              NaN\n",
              "1     2020-10-15  white  nonhispanic  ...   0     0              NaN\n",
              "2     2020-10-15  white  nonhispanic  ...   0     0              NaN\n",
              "3     2020-10-15  white  nonhispanic  ...   0     0              NaN\n",
              "4     2020-10-15  white  nonhispanic  ...   0     0              NaN\n",
              "...          ...    ...          ...  ...  ..   ...              ...\n",
              "90717 1923-03-20  white  nonhispanic  ...  97     0              NaN\n",
              "90718 1923-03-20  white  nonhispanic  ...  97     0              NaN\n",
              "90719 1923-03-20  white  nonhispanic  ...  97     0              NaN\n",
              "90720 1923-03-20  white  nonhispanic  ...  98     0              NaN\n",
              "90721 1923-03-20  white  nonhispanic  ...  98     0              NaN\n",
              "\n",
              "[90722 rows x 13 columns]"
            ]
          },
          "metadata": {},
          "execution_count": 153
        }
      ]
    },
    {
      "cell_type": "markdown",
      "metadata": {
        "id": "LECHr7iAU0nY"
      },
      "source": [
        "## c) Feature Engineering & Prep"
      ]
    },
    {
      "cell_type": "code",
      "metadata": {
        "colab": {
          "base_uri": "https://localhost:8080/"
        },
        "id": "B6ebUn6gs672",
        "outputId": "66fa60f7-fc6e-4429-a0ec-f1535ddf6479"
      },
      "source": [
        "df2 = df[['RACE', 'ETHNICITY', 'GENDER',  'Diagnosis', 'TOTAL_CLAIM_COST', 'Age', 'Dead', 'Medication']]\n",
        "df2.isna().sum().sort_values(ascending=False) / len(df)"
      ],
      "execution_count": 154,
      "outputs": [
        {
          "output_type": "execute_result",
          "data": {
            "text/plain": [
              "Medication          0.377053\n",
              "Dead                0.000000\n",
              "Age                 0.000000\n",
              "TOTAL_CLAIM_COST    0.000000\n",
              "Diagnosis           0.000000\n",
              "GENDER              0.000000\n",
              "ETHNICITY           0.000000\n",
              "RACE                0.000000\n",
              "dtype: float64"
            ]
          },
          "metadata": {},
          "execution_count": 154
        }
      ]
    },
    {
      "cell_type": "code",
      "metadata": {
        "id": "B2YC4Ec9bjbZ",
        "colab": {
          "base_uri": "https://localhost:8080/"
        },
        "outputId": "40400d0e-c7a1-469b-c9ae-d6c3f37a2a25"
      },
      "source": [
        "# Inserting Noise\n",
        "#split dataset into real 0 and fake 1\n",
        "X_train, X_test, _, _ = train_test_split(df2, [0]*len(df2), test_size=0.1)\n",
        "real = pd.DataFrame(X_train) #.cols\n",
        "fake = pd.DataFrame(X_test) #.cols\n",
        "real.columns = df2.columns\n",
        "fake.columns = df2.columns\n",
        "\n",
        "print(len(fake))\n",
        "print(len(real))"
      ],
      "execution_count": 155,
      "outputs": [
        {
          "output_type": "stream",
          "name": "stdout",
          "text": [
            "9073\n",
            "81649\n"
          ]
        }
      ]
    },
    {
      "cell_type": "code",
      "metadata": {
        "id": "6wERpdmcr1iu"
      },
      "source": [
        "diagnosis_old = fake.pop('Diagnosis')\n",
        "old = diagnosis_old.to_list()\n",
        "new = old \n",
        "random.shuffle(new)\n",
        "\n",
        "#check if changed\n",
        "fake_slots = []\n",
        "for p, a in zip(new, diagnosis_old.to_list()):\n",
        "  fake_slots.append(0 if (p==a) else 1)\n",
        "fake['is_fake'] = fake_slots\n",
        "fake['Diagnosis'] = new"
      ],
      "execution_count": 156,
      "outputs": []
    },
    {
      "cell_type": "code",
      "metadata": {
        "id": "mqWfGfS5ihok"
      },
      "source": [
        "#function permute\n",
        "def permute_df(fake):\n",
        "  #split fake df into smaller parts\n",
        "  group_size = round(len(fake)/20)\n",
        "  lst = [fake.iloc[i:i+group_size] for i in range(0,len(fake)-group_size+1,group_size)]\n",
        "  #for each part permute in one column\n",
        "  return_df = pd.DataFrame()\n",
        "  for df in lst:\n",
        "    possible_mutate = ['Diagnosis']#['Medication',  'Careplan',  'Reasoncode_Medication',  'Reasoncode_Careplan', 'Diagnosis']\n",
        "    pick_one = random.choice(possible_mutate)\n",
        "    old = df[pick_one].to_list()\n",
        "    was = df[pick_one].to_list()\n",
        "    #distribution\n",
        "    #was.plot.hist(grid=True)\n",
        "    random.shuffle(was)\n",
        "    df[pick_one] = was\n",
        "    #check if changed\n",
        "    fake_slots = []\n",
        "    for p, a in zip(was, old):\n",
        "      fake_slots.append(0 if (p==a) else 1)\n",
        "    df['is_fake'] = fake_slots\n",
        "    if return_df.empty: \n",
        "      return_df = df \n",
        "    else:\n",
        "      return_df.append(df)\n",
        "  #return all appended permuted dfs as one\n",
        "  return return_df\n",
        "#print(fake)\n",
        "#permuted_fake = permute_df(fake)\n",
        "#print(permuted_fake)\n",
        "real['is_fake'] = 0\n",
        "complete_df = real.append(fake)"
      ],
      "execution_count": 157,
      "outputs": []
    },
    {
      "cell_type": "code",
      "metadata": {
        "id": "YUUtSq7UvHA0"
      },
      "source": [
        "#split labels off\n",
        "X = complete_df.iloc[:,:-1]\n",
        "y = complete_df['is_fake']\n",
        "\n",
        "# scaling\n",
        "scaler = MinMaxScaler()\n",
        "X[['TOTAL_CLAIM_COST', 'Age']] = scaler.fit_transform(X[['TOTAL_CLAIM_COST', 'Age']])\n",
        "\n",
        "# one hot encoding\n",
        "TOTAL_CLAIM_COST = X.pop('TOTAL_CLAIM_COST')\n",
        "Age = X.pop('Age')\n",
        "X['Medication'] = X['Medication'].replace(np.nan, 0)\n",
        "\n",
        "enc = OneHotEncoder(categories='auto')"
      ],
      "execution_count": 158,
      "outputs": []
    },
    {
      "cell_type": "code",
      "metadata": {
        "colab": {
          "base_uri": "https://localhost:8080/"
        },
        "id": "gifjnW1C9lLR",
        "outputId": "42a75ac0-0601-4046-ee77-3b782b4b6fee"
      },
      "source": [
        "print('faked share:', (y.sum() / len(y)))"
      ],
      "execution_count": 159,
      "outputs": [
        {
          "output_type": "stream",
          "name": "stdout",
          "text": [
            "faked share: 0.08064196115605916\n"
          ]
        }
      ]
    },
    {
      "cell_type": "code",
      "metadata": {
        "id": "elrsxrBN3R55"
      },
      "source": [
        "enc_df = pd.DataFrame(enc.fit_transform(X[['RACE', 'ETHNICITY', 'GENDER', 'Diagnosis', 'Medication']]).toarray())\n",
        "enc_df.columns = enc.get_feature_names()\n",
        "X = enc_df.drop(columns = ['x1_nonhispanic', 'x2_M'])\n",
        "\n",
        "feature_list = list(X.columns)\n",
        "\n",
        "#combine non_enc and encoded X\n",
        "#X = pd.concat([enc_df, TOTAL_CLAIM_COST, Age], ignore_index=True)\n",
        "X['Total Cost'] = TOTAL_CLAIM_COST.to_list()\n",
        "X['Age'] = Age.to_list()"
      ],
      "execution_count": 160,
      "outputs": []
    },
    {
      "cell_type": "code",
      "metadata": {
        "id": "g-osB5GfV6Nm"
      },
      "source": [
        "#split dataset into train and test\n",
        "X_train, X_test, y_train, y_test = train_test_split(X, y, test_size=0.20, stratify=y)"
      ],
      "execution_count": 161,
      "outputs": []
    },
    {
      "cell_type": "code",
      "metadata": {
        "id": "PVIz1QGLVxy2",
        "colab": {
          "base_uri": "https://localhost:8080/"
        },
        "outputId": "bcf922e3-ec47-42b2-eb39-fd0dcd5dc907"
      },
      "source": [
        "# oversampling / undersampling\n",
        "from imblearn.over_sampling import RandomOverSampler \n",
        "oversample = RandomOverSampler(sampling_strategy='minority')\n",
        "\n",
        "X_train, y_train = oversample.fit_resample(X_train, y_train)\n"
      ],
      "execution_count": 162,
      "outputs": [
        {
          "output_type": "stream",
          "name": "stderr",
          "text": [
            "/usr/local/lib/python3.7/dist-packages/sklearn/utils/deprecation.py:87: FutureWarning: Function safe_indexing is deprecated; safe_indexing is deprecated in version 0.22 and will be removed in version 0.24.\n",
            "  warnings.warn(msg, category=FutureWarning)\n"
          ]
        }
      ]
    },
    {
      "cell_type": "code",
      "metadata": {
        "id": "zwe4U39OV6V1"
      },
      "source": [
        "# feature selection (& correlation plot)\n",
        "#X.isna().sum().sort_values(ascending=False) / len(X)"
      ],
      "execution_count": 163,
      "outputs": []
    },
    {
      "cell_type": "markdown",
      "metadata": {
        "id": "Q9hWKFjIQzg9"
      },
      "source": [
        "# 2. Model"
      ]
    },
    {
      "cell_type": "code",
      "metadata": {
        "id": "oYpokrxWGIj9"
      },
      "source": [
        "from sklearn.ensemble import RandomForestClassifier\n",
        "clf = RandomForestClassifier(max_depth=10, random_state=0)"
      ],
      "execution_count": 164,
      "outputs": []
    },
    {
      "cell_type": "code",
      "metadata": {
        "id": "251jGbYJQ1AB"
      },
      "source": [
        "# grid search set up\n",
        "#param_grid = {'C': [0.001, 0.01, 0.1, 1, 10, 100, 1000], 'class_weight': ['balanced', None]}\n",
        "#param_grid = {'C': [ 0.01, 1, 10, 1000, 10000]}\n",
        "#clf = GridSearchCV(LogisticRegression(max_iter = 1500), param_grid, cv=5, refit=True, scoring='roc_auc')"
      ],
      "execution_count": 165,
      "outputs": []
    },
    {
      "cell_type": "code",
      "metadata": {
        "id": "Nzjl2H2cWTac",
        "colab": {
          "base_uri": "https://localhost:8080/"
        },
        "outputId": "ef54c1d2-4619-478d-98ec-7c4b976b5827"
      },
      "source": [
        "clf.fit(X_train, y_train)"
      ],
      "execution_count": 166,
      "outputs": [
        {
          "output_type": "execute_result",
          "data": {
            "text/plain": [
              "RandomForestClassifier(bootstrap=True, ccp_alpha=0.0, class_weight=None,\n",
              "                       criterion='gini', max_depth=10, max_features='auto',\n",
              "                       max_leaf_nodes=None, max_samples=None,\n",
              "                       min_impurity_decrease=0.0, min_impurity_split=None,\n",
              "                       min_samples_leaf=1, min_samples_split=2,\n",
              "                       min_weight_fraction_leaf=0.0, n_estimators=100,\n",
              "                       n_jobs=None, oob_score=False, random_state=0, verbose=0,\n",
              "                       warm_start=False)"
            ]
          },
          "metadata": {},
          "execution_count": 166
        }
      ]
    },
    {
      "cell_type": "markdown",
      "metadata": {
        "id": "zu6pqOfvQ3AW"
      },
      "source": [
        "# 3. Evaluation"
      ]
    },
    {
      "cell_type": "code",
      "metadata": {
        "id": "9aYGAwGeWVqU"
      },
      "source": [
        "#clf.best_score_\n",
        "#clf.best_params_"
      ],
      "execution_count": 167,
      "outputs": []
    },
    {
      "cell_type": "code",
      "metadata": {
        "id": "YsjEG2TcWVvC",
        "colab": {
          "base_uri": "https://localhost:8080/"
        },
        "outputId": "3617cafa-8e4f-4406-a6e3-beb8a8355feb"
      },
      "source": [
        "# confusion matrix\n",
        "from sklearn.metrics import confusion_matrix, accuracy_score, precision_recall_curve, precision_score, recall_score\n",
        "y_pred = clf.predict(X_test)\n",
        "confusion_matrix(y_test, y_pred)"
      ],
      "execution_count": 168,
      "outputs": [
        {
          "output_type": "execute_result",
          "data": {
            "text/plain": [
              "array([[14554,  2128],\n",
              "       [  195,  1268]])"
            ]
          },
          "metadata": {},
          "execution_count": 168
        }
      ]
    },
    {
      "cell_type": "code",
      "metadata": {
        "colab": {
          "base_uri": "https://localhost:8080/"
        },
        "id": "-_kqyy0gIalt",
        "outputId": "6a75d417-7b37-478d-9d7e-6b92586ccb88"
      },
      "source": [
        "recall_score(y_test, y_pred)"
      ],
      "execution_count": 169,
      "outputs": [
        {
          "output_type": "execute_result",
          "data": {
            "text/plain": [
              "0.8667122351332878"
            ]
          },
          "metadata": {},
          "execution_count": 169
        }
      ]
    },
    {
      "cell_type": "code",
      "metadata": {
        "id": "M6uFKG1QWMtP"
      },
      "source": [
        "# Get numerical feature importances\n",
        "importances = list(clf.feature_importances_)# List of tuples with variable and importance\n",
        "feature_importances = [(feature, round(importance, 2)) for feature, importance in zip(feature_list, importances)]# Sort the feature importances by most important first\n",
        "feature_importances = sorted(feature_importances, key = lambda x: x[1], reverse = True)# Print out the feature and importances \n",
        "[print('Variable: {:20} Importance: {}'.format(*pair)) for pair in feature_importances]"
      ],
      "execution_count": null,
      "outputs": []
    },
    {
      "cell_type": "code",
      "metadata": {
        "colab": {
          "base_uri": "https://localhost:8080/",
          "height": 353
        },
        "id": "1HRfWQbYXZSn",
        "outputId": "6ee028ac-c309-49d8-fd00-a7129d3907b4"
      },
      "source": [
        "# list of x locations for plotting\n",
        "importances_top = importances[:15]\n",
        "x_values = list(range(len(importances_top)))# Make a bar chart\n",
        "plt.bar(x_values, importances_top, orientation = 'vertical', color = 'r', edgecolor = 'k', linewidth = 1.2)# Tick labels for x axis\n",
        "plt.xticks(x_values, feature_list, rotation='vertical')# Axis labels and title\n",
        "plt.ylabel('Importance'); plt.xlabel('Variable'); plt.title('Variable Importances');"
      ],
      "execution_count": 171,
      "outputs": [
        {
          "output_type": "display_data",
          "data": {
            "image/png": "[encoded data removed]",
            "text/plain": [
              "<Figure size 432x288 with 1 Axes>"
            ]
          },
          "metadata": {
            "needs_background": "light"
          }
        }
      ]
    },
    {
      "cell_type": "code",
      "metadata": {
        "id": "m4AzJc75Q5bM"
      },
      "source": [
        ""
      ],
      "execution_count": 171,
      "outputs": []
    }
  ]
}